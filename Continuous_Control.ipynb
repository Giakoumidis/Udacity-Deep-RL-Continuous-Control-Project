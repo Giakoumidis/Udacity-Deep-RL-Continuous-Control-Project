{
 "cells": [
  {
   "cell_type": "markdown",
   "metadata": {},
   "source": [
    "# Continuous Control\n",
    "\n",
    "---\n",
    "\n",
    "In this notebook, you will learn how to use the Unity ML-Agents environment for the second project of the [Deep Reinforcement Learning Nanodegree](https://www.udacity.com/course/deep-reinforcement-learning-nanodegree--nd893) program.\n",
    "\n",
    "### 1. Start the Environment\n",
    "\n",
    "We begin by importing the necessary packages.  If the code cell below returns an error, please revisit the project instructions to double-check that you have installed [Unity ML-Agents](https://github.com/Unity-Technologies/ml-agents/blob/master/docs/Installation.md) and [NumPy](http://www.numpy.org/)."
   ]
  },
  {
   "cell_type": "code",
   "execution_count": 2,
   "metadata": {},
   "outputs": [],
   "source": [
    "from collections import deque\n",
    "import matplotlib.pyplot as plt\n",
    "import numpy as np\n",
    "import time\n",
    "import torch\n",
    "from unityagents import UnityEnvironment\n",
    "from ddpg_agent import Agent\n",
    "\n",
    "%matplotlib inline"
   ]
  },
  {
   "cell_type": "markdown",
   "metadata": {},
   "source": [
    "Next, we will start the environment!  **_Before running the code cell below_**, change the `file_name` parameter to match the location of the Unity environment that you downloaded.\n",
    "\n",
    "- **Mac**: `\"path/to/Reacher.app\"`\n",
    "- **Windows** (x86): `\"path/to/Reacher_Windows_x86/Reacher.exe\"`\n",
    "- **Windows** (x86_64): `\"path/to/Reacher_Windows_x86_64/Reacher.exe\"`\n",
    "- **Linux** (x86): `\"path/to/Reacher_Linux/Reacher.x86\"`\n",
    "- **Linux** (x86_64): `\"path/to/Reacher_Linux/Reacher.x86_64\"`\n",
    "- **Linux** (x86, headless): `\"path/to/Reacher_Linux_NoVis/Reacher.x86\"`\n",
    "- **Linux** (x86_64, headless): `\"path/to/Reacher_Linux_NoVis/Reacher.x86_64\"`\n",
    "\n",
    "For instance, if you are using a Mac, then you downloaded `Reacher.app`.  If this file is in the same folder as the notebook, then the line below should appear as follows:\n",
    "```\n",
    "env = UnityEnvironment(file_name=\"Reacher.app\")\n",
    "```"
   ]
  },
  {
   "cell_type": "code",
   "execution_count": 3,
   "metadata": {
    "scrolled": false
   },
   "outputs": [
    {
     "name": "stderr",
     "output_type": "stream",
     "text": [
      "INFO:unityagents:\n",
      "'Academy' started successfully!\n",
      "Unity Academy name: Academy\n",
      "        Number of Brains: 1\n",
      "        Number of External Brains : 1\n",
      "        Lesson number : 0\n",
      "        Reset Parameters :\n",
      "\t\tgoal_speed -> 1.0\n",
      "\t\tgoal_size -> 5.0\n",
      "Unity brain name: ReacherBrain\n",
      "        Number of Visual Observations (per agent): 0\n",
      "        Vector Observation space type: continuous\n",
      "        Vector Observation space size (per agent): 33\n",
      "        Number of stacked Vector Observation: 1\n",
      "        Vector Action space type: continuous\n",
      "        Vector Action space size (per agent): 4\n",
      "        Vector Action descriptions: , , , \n"
     ]
    }
   ],
   "source": [
    "# Load Reacher env with 20 agents\n",
    "env = UnityEnvironment(\n",
    "    file_name='Reacher_Linux_20/Reacher.x86_64')"
   ]
  },
  {
   "cell_type": "markdown",
   "metadata": {},
   "source": [
    "Environments contain **_brains_** which are responsible for deciding the actions of their associated agents. Here we check for the first brain available, and set it as the default brain we will be controlling from Python."
   ]
  },
  {
   "cell_type": "code",
   "execution_count": 4,
   "metadata": {},
   "outputs": [],
   "source": [
    "# get the default brain\n",
    "brain_name = env.brain_names[0]\n",
    "brain = env.brains[brain_name]"
   ]
  },
  {
   "cell_type": "markdown",
   "metadata": {},
   "source": [
    "### 2. Examine the State and Action Spaces\n",
    "\n",
    "In this environment, a double-jointed arm can move to target locations. A reward of `+0.1` is provided for each step that the agent's hand is in the goal location. Thus, the goal of your agent is to maintain its position at the target location for as many time steps as possible.\n",
    "\n",
    "The observation space consists of `33` variables corresponding to position, rotation, velocity, and angular velocities of the arm.  Each action is a vector with four numbers, corresponding to torque applicable to two joints.  Every entry in the action vector must be a number between `-1` and `1`.\n",
    "\n",
    "Run the code cell below to print some information about the environment."
   ]
  },
  {
   "cell_type": "code",
   "execution_count": 5,
   "metadata": {},
   "outputs": [
    {
     "name": "stdout",
     "output_type": "stream",
     "text": [
      "Number of agents: 20\n",
      "Size of each action: 4\n",
      "There are 20 agents. Each observes a state with length: 33\n",
      "The state for the first agent looks like: [ 0.00000000e+00 -4.00000000e+00  0.00000000e+00  1.00000000e+00\n",
      " -0.00000000e+00 -0.00000000e+00 -4.37113883e-08  0.00000000e+00\n",
      "  0.00000000e+00  0.00000000e+00  0.00000000e+00  0.00000000e+00\n",
      "  0.00000000e+00  0.00000000e+00 -1.00000000e+01  0.00000000e+00\n",
      "  1.00000000e+00 -0.00000000e+00 -0.00000000e+00 -4.37113883e-08\n",
      "  0.00000000e+00  0.00000000e+00  0.00000000e+00  0.00000000e+00\n",
      "  0.00000000e+00  0.00000000e+00  5.75471878e+00 -1.00000000e+00\n",
      "  5.55726624e+00  0.00000000e+00  1.00000000e+00  0.00000000e+00\n",
      " -1.68164849e-01]\n"
     ]
    }
   ],
   "source": [
    "# reset the environment\n",
    "env_info = env.reset(train_mode=True)[brain_name]\n",
    "\n",
    "# number of agents\n",
    "num_agents = len(env_info.agents)\n",
    "print('Number of agents:', num_agents)\n",
    "\n",
    "# size of each action\n",
    "action_size = brain.vector_action_space_size\n",
    "print('Size of each action:', action_size)\n",
    "\n",
    "# examine the state space\n",
    "states = env_info.vector_observations\n",
    "state_size = states.shape[1]\n",
    "print('There are {} agents. Each observes a state with length: {}'.format(states.shape[0], state_size))\n",
    "print('The state for the first agent looks like:', states[0])"
   ]
  },
  {
   "cell_type": "markdown",
   "metadata": {},
   "source": [
    "### 5. Instantiate DDPG Agent"
   ]
  },
  {
   "cell_type": "code",
   "execution_count": 6,
   "metadata": {},
   "outputs": [],
   "source": [
    "random_seed = 7\n",
    "train_mode = True\n",
    "agent = Agent(state_size=state_size, action_size=action_size, random_seed=random_seed)"
   ]
  },
  {
   "cell_type": "markdown",
   "metadata": {},
   "source": [
    "### 6. DDPG function"
   ]
  },
  {
   "cell_type": "code",
   "execution_count": 7,
   "metadata": {},
   "outputs": [],
   "source": [
    "def ddpg(n_episodes=2000, max_t=1000, print_every=10, learn_every=20, num_learn=10, goal_score=30, ):\n",
    "    total_scores_deque = deque(maxlen=100)\n",
    "    total_scores = []\n",
    "\n",
    "    for i_episode in range(1, n_episodes + 1):\n",
    "        # reset environment\n",
    "        env_info = env.reset(train_mode=train_mode)[brain_name]\n",
    "        # get current state for each agent\n",
    "        states = env_info.vector_observations\n",
    "        # initialize the score (for each agent)\n",
    "        scores = np.zeros(num_agents)\n",
    "        agent.reset()\n",
    "        start_time = time.time()\n",
    "\n",
    "        for t in range(max_t):\n",
    "            # select an action\n",
    "            actions = agent.act(states, add_noise=True)\n",
    "            # send actions to environment\n",
    "            env_info = env.step(actions)[brain_name]\n",
    "            # get next state\n",
    "            next_states = env_info.vector_observations\n",
    "            # get reward\n",
    "            rewards = env_info.rewards\n",
    "            # check if episode has finished\n",
    "            dones = env_info.local_done\n",
    "\n",
    "            for state, action, reward, next_state, done in zip(states, actions, rewards, next_states, dones):\n",
    "                # send actions to the agent\n",
    "                agent.step(state, action, reward, next_state, done)\n",
    "            # pass states to next time step\n",
    "            states = next_states\n",
    "            # update the scores\n",
    "            scores += rewards\n",
    "\n",
    "            if t % learn_every == 0:\n",
    "                for _ in range(num_learn):\n",
    "                    agent.start_learn()\n",
    "            # exit loop if episode finished\n",
    "            if np.any(dones):\n",
    "                break\n",
    "\n",
    "        duration = time.time() - start_time\n",
    "        # save lowest score for a single agent\n",
    "        min_score = np.min(scores)\n",
    "        # save highest score for a single agent\n",
    "        max_score = np.max(scores)\n",
    "        # save mean score for the episode\n",
    "        mean_score = np.mean(scores)\n",
    "        total_scores_deque.append(mean_score)\n",
    "        total_scores.append(mean_score)\n",
    "        total_average_score = np.mean(total_scores_deque)\n",
    "\n",
    "        print('\\rEpisode {}\\tTotal Average Score: {:.2f}\\tMean: {:.2f}\\tMin: {:.2f}\\tMax: {:.2f}\\tDuration: {:.2f}'\n",
    "              .format(i_episode, total_average_score, mean_score, min_score, max_score, duration))\n",
    "\n",
    "        if i_episode % print_every == 0:\n",
    "            torch.save(agent.actor_local.state_dict(), 'checkpoint_actor.pth')\n",
    "            torch.save(agent.critic_local.state_dict(), 'checkpoint_critic.pth')\n",
    "            print(\n",
    "                '\\rEpisode {} ({} sec)  -- \\tMin: {:.1f}\\tMax: {:.1f}\\tMean: {:.1f}'.format(i_episode, round(duration),\n",
    "                                                                                            min_score, max_score,\n",
    "                                                                                            mean_score))\n",
    "\n",
    "        if total_average_score >= goal_score and i_episode >= 100:\n",
    "            print(\n",
    "                'Problem Solved after {} epsisodes Total Average score: {:.2f}'.format(i_episode, total_average_score))\n",
    "            torch.save(agent.actor_local.state_dict(), 'checkpoint_actor.pth')\n",
    "            torch.save(agent.critic_local.state_dict(), 'checkpoint_critic.pth')\n",
    "            break\n",
    "\n",
    "    return total_scores"
   ]
  },
  {
   "cell_type": "markdown",
   "metadata": {},
   "source": [
    "### 7. Start Training"
   ]
  },
  {
   "cell_type": "code",
   "execution_count": 8,
   "metadata": {},
   "outputs": [
    {
     "name": "stderr",
     "output_type": "stream",
     "text": [
      "/home/nikolaos/PycharmProjects/Continuous Control/ddpg_agent.py:118: UserWarning: torch.nn.utils.clip_grad_norm is now deprecated in favor of torch.nn.utils.clip_grad_norm_.\n",
      "  torch.nn.utils.clip_grad_norm(self.critic_local.parameters(), 1)\n"
     ]
    },
    {
     "name": "stdout",
     "output_type": "stream",
     "text": [
      "Episode 1\tTotal Average Score: 0.28\tMean: 0.28\tMin: 0.00\tMax: 0.66\tDuration: 7.71\n",
      "Episode 2\tTotal Average Score: 0.38\tMean: 0.48\tMin: 0.00\tMax: 1.83\tDuration: 8.26\n",
      "Episode 3\tTotal Average Score: 0.57\tMean: 0.95\tMin: 0.17\tMax: 1.66\tDuration: 8.79\n",
      "Episode 4\tTotal Average Score: 0.69\tMean: 1.05\tMin: 0.12\tMax: 2.14\tDuration: 8.88\n",
      "Episode 5\tTotal Average Score: 0.82\tMean: 1.35\tMin: 0.46\tMax: 3.35\tDuration: 9.05\n",
      "Episode 6\tTotal Average Score: 0.86\tMean: 1.05\tMin: 0.09\tMax: 2.22\tDuration: 9.30\n",
      "Episode 7\tTotal Average Score: 0.91\tMean: 1.22\tMin: 0.35\tMax: 2.52\tDuration: 9.48\n",
      "Episode 8\tTotal Average Score: 0.98\tMean: 1.44\tMin: 0.26\tMax: 2.82\tDuration: 9.87\n",
      "Episode 9\tTotal Average Score: 1.01\tMean: 1.24\tMin: 0.25\tMax: 2.73\tDuration: 10.15\n",
      "Episode 10\tTotal Average Score: 1.05\tMean: 1.44\tMin: 0.11\tMax: 2.61\tDuration: 10.61\n",
      "Episode 10 (11 sec)  -- \tMin: 0.1\tMax: 2.6\tMean: 1.4\n",
      "Episode 11\tTotal Average Score: 1.10\tMean: 1.61\tMin: 0.29\tMax: 3.11\tDuration: 11.11\n",
      "Episode 12\tTotal Average Score: 1.14\tMean: 1.63\tMin: 0.60\tMax: 2.84\tDuration: 11.45\n",
      "Episode 13\tTotal Average Score: 1.21\tMean: 1.95\tMin: 0.70\tMax: 4.03\tDuration: 11.97\n",
      "Episode 14\tTotal Average Score: 1.27\tMean: 2.04\tMin: 0.72\tMax: 3.57\tDuration: 12.99\n",
      "Episode 15\tTotal Average Score: 1.29\tMean: 1.69\tMin: 0.69\tMax: 3.30\tDuration: 14.42\n",
      "Episode 16\tTotal Average Score: 1.42\tMean: 3.33\tMin: 1.92\tMax: 5.55\tDuration: 14.11\n",
      "Episode 17\tTotal Average Score: 1.51\tMean: 2.91\tMin: 0.87\tMax: 4.77\tDuration: 15.40\n",
      "Episode 18\tTotal Average Score: 1.63\tMean: 3.63\tMin: 1.30\tMax: 6.22\tDuration: 16.34\n",
      "Episode 19\tTotal Average Score: 1.75\tMean: 3.95\tMin: 1.49\tMax: 7.52\tDuration: 16.02\n",
      "Episode 20\tTotal Average Score: 1.89\tMean: 4.64\tMin: 1.03\tMax: 9.06\tDuration: 16.26\n",
      "Episode 20 (16 sec)  -- \tMin: 1.0\tMax: 9.1\tMean: 4.6\n",
      "Episode 21\tTotal Average Score: 2.07\tMean: 5.61\tMin: 1.07\tMax: 10.66\tDuration: 16.83\n",
      "Episode 22\tTotal Average Score: 2.26\tMean: 6.33\tMin: 2.85\tMax: 8.65\tDuration: 17.40\n",
      "Episode 23\tTotal Average Score: 2.51\tMean: 8.02\tMin: 5.13\tMax: 14.01\tDuration: 19.00\n",
      "Episode 24\tTotal Average Score: 2.75\tMean: 8.21\tMin: 3.98\tMax: 12.30\tDuration: 18.25\n",
      "Episode 25\tTotal Average Score: 3.03\tMean: 9.81\tMin: 5.10\tMax: 15.47\tDuration: 18.20\n",
      "Episode 26\tTotal Average Score: 3.37\tMean: 11.89\tMin: 5.91\tMax: 27.68\tDuration: 21.17\n",
      "Episode 27\tTotal Average Score: 3.70\tMean: 12.20\tMin: 8.53\tMax: 16.94\tDuration: 19.14\n",
      "Episode 28\tTotal Average Score: 4.03\tMean: 12.77\tMin: 7.83\tMax: 20.38\tDuration: 20.76\n",
      "Episode 29\tTotal Average Score: 4.39\tMean: 14.73\tMin: 10.44\tMax: 21.28\tDuration: 21.23\n",
      "Episode 30\tTotal Average Score: 4.73\tMean: 14.35\tMin: 5.34\tMax: 30.88\tDuration: 20.37\n",
      "Episode 30 (20 sec)  -- \tMin: 5.3\tMax: 30.9\tMean: 14.4\n",
      "Episode 31\tTotal Average Score: 5.09\tMean: 15.93\tMin: 9.53\tMax: 22.81\tDuration: 20.50\n",
      "Episode 32\tTotal Average Score: 5.46\tMean: 17.11\tMin: 5.19\tMax: 31.56\tDuration: 21.78\n",
      "Episode 33\tTotal Average Score: 5.87\tMean: 18.83\tMin: 13.06\tMax: 32.86\tDuration: 22.76\n",
      "Episode 34\tTotal Average Score: 6.24\tMean: 18.56\tMin: 11.71\tMax: 25.31\tDuration: 22.65\n",
      "Episode 35\tTotal Average Score: 6.67\tMean: 21.10\tMin: 15.47\tMax: 34.44\tDuration: 22.07\n",
      "Episode 36\tTotal Average Score: 7.05\tMean: 20.38\tMin: 13.40\tMax: 24.82\tDuration: 23.90\n",
      "Episode 37\tTotal Average Score: 7.46\tMean: 22.35\tMin: 16.69\tMax: 27.82\tDuration: 23.48\n",
      "Episode 38\tTotal Average Score: 7.94\tMean: 25.51\tMin: 21.92\tMax: 31.04\tDuration: 23.82\n",
      "Episode 39\tTotal Average Score: 8.41\tMean: 26.31\tMin: 19.15\tMax: 31.93\tDuration: 24.29\n",
      "Episode 40\tTotal Average Score: 8.90\tMean: 28.33\tMin: 23.68\tMax: 36.55\tDuration: 24.71\n",
      "Episode 40 (25 sec)  -- \tMin: 23.7\tMax: 36.5\tMean: 28.3\n",
      "Episode 41\tTotal Average Score: 9.41\tMean: 29.82\tMin: 17.29\tMax: 33.96\tDuration: 25.18\n",
      "Episode 42\tTotal Average Score: 9.96\tMean: 32.10\tMin: 22.59\tMax: 37.68\tDuration: 25.55\n",
      "Episode 43\tTotal Average Score: 10.53\tMean: 34.55\tMin: 22.56\tMax: 39.57\tDuration: 27.30\n",
      "Episode 44\tTotal Average Score: 11.03\tMean: 32.51\tMin: 21.34\tMax: 39.10\tDuration: 27.60\n",
      "Episode 45\tTotal Average Score: 11.52\tMean: 33.42\tMin: 27.58\tMax: 37.80\tDuration: 27.58\n",
      "Episode 46\tTotal Average Score: 12.04\tMean: 35.28\tMin: 29.86\tMax: 38.77\tDuration: 28.47\n",
      "Episode 47\tTotal Average Score: 12.55\tMean: 35.89\tMin: 27.12\tMax: 39.17\tDuration: 27.89\n",
      "Episode 48\tTotal Average Score: 13.02\tMean: 35.25\tMin: 30.29\tMax: 38.60\tDuration: 30.18\n",
      "Episode 49\tTotal Average Score: 13.51\tMean: 36.95\tMin: 32.92\tMax: 39.46\tDuration: 29.76\n",
      "Episode 50\tTotal Average Score: 13.99\tMean: 37.48\tMin: 34.46\tMax: 39.54\tDuration: 29.99\n",
      "Episode 50 (30 sec)  -- \tMin: 34.5\tMax: 39.5\tMean: 37.5\n",
      "Episode 51\tTotal Average Score: 14.43\tMean: 36.66\tMin: 33.26\tMax: 39.52\tDuration: 30.08\n",
      "Episode 52\tTotal Average Score: 14.89\tMean: 37.92\tMin: 34.69\tMax: 39.22\tDuration: 30.01\n",
      "Episode 53\tTotal Average Score: 15.32\tMean: 37.90\tMin: 34.23\tMax: 39.66\tDuration: 30.73\n",
      "Episode 54\tTotal Average Score: 15.75\tMean: 38.35\tMin: 36.53\tMax: 39.59\tDuration: 30.45\n",
      "Episode 55\tTotal Average Score: 16.16\tMean: 38.25\tMin: 36.76\tMax: 39.55\tDuration: 31.72\n",
      "Episode 56\tTotal Average Score: 16.52\tMean: 36.47\tMin: 33.21\tMax: 38.51\tDuration: 30.78\n",
      "Episode 57\tTotal Average Score: 16.90\tMean: 38.34\tMin: 35.20\tMax: 39.39\tDuration: 33.00\n",
      "Episode 58\tTotal Average Score: 17.28\tMean: 38.86\tMin: 37.15\tMax: 39.54\tDuration: 34.90\n",
      "Episode 59\tTotal Average Score: 17.64\tMean: 38.83\tMin: 37.98\tMax: 39.51\tDuration: 29.48\n",
      "Episode 60\tTotal Average Score: 17.98\tMean: 37.77\tMin: 34.95\tMax: 39.37\tDuration: 30.19\n",
      "Episode 60 (30 sec)  -- \tMin: 34.9\tMax: 39.4\tMean: 37.8\n",
      "Episode 61\tTotal Average Score: 18.31\tMean: 37.87\tMin: 33.63\tMax: 39.39\tDuration: 30.03\n",
      "Episode 62\tTotal Average Score: 18.62\tMean: 37.46\tMin: 35.78\tMax: 39.30\tDuration: 32.07\n",
      "Episode 63\tTotal Average Score: 18.92\tMean: 37.95\tMin: 36.94\tMax: 39.17\tDuration: 31.10\n",
      "Episode 64\tTotal Average Score: 19.23\tMean: 38.67\tMin: 37.41\tMax: 39.65\tDuration: 31.13\n",
      "Episode 65\tTotal Average Score: 19.52\tMean: 38.10\tMin: 35.12\tMax: 39.22\tDuration: 33.38\n",
      "Episode 66\tTotal Average Score: 19.80\tMean: 37.77\tMin: 35.98\tMax: 38.87\tDuration: 31.67\n",
      "Episode 67\tTotal Average Score: 20.07\tMean: 38.02\tMin: 36.49\tMax: 38.91\tDuration: 33.69\n",
      "Episode 68\tTotal Average Score: 20.34\tMean: 38.48\tMin: 36.34\tMax: 39.57\tDuration: 33.36\n",
      "Episode 69\tTotal Average Score: 20.60\tMean: 38.21\tMin: 37.02\tMax: 39.35\tDuration: 32.96\n",
      "Episode 70\tTotal Average Score: 20.86\tMean: 38.62\tMin: 37.24\tMax: 39.65\tDuration: 31.08\n",
      "Episode 70 (31 sec)  -- \tMin: 37.2\tMax: 39.6\tMean: 38.6\n",
      "Episode 71\tTotal Average Score: 21.11\tMean: 38.74\tMin: 37.20\tMax: 39.53\tDuration: 30.24\n",
      "Episode 72\tTotal Average Score: 21.34\tMean: 37.61\tMin: 35.80\tMax: 39.10\tDuration: 31.30\n",
      "Episode 73\tTotal Average Score: 21.57\tMean: 38.02\tMin: 35.59\tMax: 39.33\tDuration: 31.94\n",
      "Episode 74\tTotal Average Score: 21.79\tMean: 38.06\tMin: 36.01\tMax: 39.40\tDuration: 31.85\n",
      "Episode 75\tTotal Average Score: 22.01\tMean: 38.05\tMin: 36.79\tMax: 39.36\tDuration: 31.18\n",
      "Episode 76\tTotal Average Score: 22.22\tMean: 38.01\tMin: 36.73\tMax: 39.07\tDuration: 30.31\n",
      "Episode 77\tTotal Average Score: 22.43\tMean: 38.81\tMin: 37.92\tMax: 39.29\tDuration: 30.68\n",
      "Episode 78\tTotal Average Score: 22.64\tMean: 38.40\tMin: 37.51\tMax: 39.52\tDuration: 32.04\n",
      "Episode 79\tTotal Average Score: 22.84\tMean: 38.80\tMin: 37.53\tMax: 39.58\tDuration: 32.08\n",
      "Episode 80\tTotal Average Score: 23.03\tMean: 38.05\tMin: 35.13\tMax: 39.23\tDuration: 32.31\n",
      "Episode 80 (32 sec)  -- \tMin: 35.1\tMax: 39.2\tMean: 38.1\n",
      "Episode 81\tTotal Average Score: 23.22\tMean: 38.00\tMin: 36.34\tMax: 39.59\tDuration: 34.15\n",
      "Episode 82\tTotal Average Score: 23.40\tMean: 38.12\tMin: 36.72\tMax: 39.01\tDuration: 31.90\n",
      "Episode 83\tTotal Average Score: 23.58\tMean: 38.59\tMin: 36.94\tMax: 39.61\tDuration: 33.70\n",
      "Episode 84\tTotal Average Score: 23.76\tMean: 38.50\tMin: 37.59\tMax: 39.57\tDuration: 31.36\n",
      "Episode 85\tTotal Average Score: 23.93\tMean: 38.68\tMin: 37.09\tMax: 39.56\tDuration: 32.62\n",
      "Episode 86\tTotal Average Score: 24.08\tMean: 36.89\tMin: 33.89\tMax: 38.77\tDuration: 32.71\n",
      "Episode 87\tTotal Average Score: 24.26\tMean: 39.07\tMin: 38.46\tMax: 39.61\tDuration: 29.90\n",
      "Episode 88\tTotal Average Score: 24.42\tMean: 38.64\tMin: 37.28\tMax: 39.27\tDuration: 30.03\n",
      "Episode 89\tTotal Average Score: 24.57\tMean: 37.97\tMin: 36.38\tMax: 39.63\tDuration: 35.08\n",
      "Episode 90\tTotal Average Score: 24.72\tMean: 38.02\tMin: 34.43\tMax: 39.47\tDuration: 31.66\n",
      "Episode 90 (32 sec)  -- \tMin: 34.4\tMax: 39.5\tMean: 38.0\n"
     ]
    },
    {
     "name": "stdout",
     "output_type": "stream",
     "text": [
      "Episode 91\tTotal Average Score: 24.88\tMean: 38.76\tMin: 37.09\tMax: 39.44\tDuration: 31.66\n",
      "Episode 92\tTotal Average Score: 25.02\tMean: 37.65\tMin: 33.80\tMax: 39.40\tDuration: 31.17\n",
      "Episode 93\tTotal Average Score: 25.15\tMean: 37.97\tMin: 35.20\tMax: 39.36\tDuration: 33.15\n",
      "Episode 94\tTotal Average Score: 25.29\tMean: 37.76\tMin: 34.99\tMax: 39.16\tDuration: 30.34\n",
      "Episode 95\tTotal Average Score: 25.42\tMean: 37.93\tMin: 36.47\tMax: 39.43\tDuration: 31.94\n",
      "Episode 96\tTotal Average Score: 25.56\tMean: 38.69\tMin: 36.51\tMax: 39.57\tDuration: 33.97\n",
      "Episode 97\tTotal Average Score: 25.69\tMean: 37.69\tMin: 34.89\tMax: 39.13\tDuration: 31.91\n",
      "Episode 98\tTotal Average Score: 25.81\tMean: 38.39\tMin: 34.78\tMax: 39.45\tDuration: 31.25\n",
      "Episode 99\tTotal Average Score: 25.94\tMean: 38.39\tMin: 35.41\tMax: 39.25\tDuration: 30.84\n",
      "Episode 100\tTotal Average Score: 26.06\tMean: 38.12\tMin: 35.22\tMax: 39.60\tDuration: 31.63\n",
      "Episode 100 (32 sec)  -- \tMin: 35.2\tMax: 39.6\tMean: 38.1\n",
      "Episode 101\tTotal Average Score: 26.45\tMean: 38.50\tMin: 36.30\tMax: 39.39\tDuration: 34.23\n",
      "Episode 102\tTotal Average Score: 26.82\tMean: 37.94\tMin: 35.18\tMax: 39.46\tDuration: 30.14\n",
      "Episode 103\tTotal Average Score: 27.20\tMean: 38.50\tMin: 36.04\tMax: 39.61\tDuration: 33.07\n",
      "Episode 104\tTotal Average Score: 27.56\tMean: 37.93\tMin: 36.60\tMax: 39.13\tDuration: 31.57\n",
      "Episode 105\tTotal Average Score: 27.93\tMean: 37.78\tMin: 35.11\tMax: 39.02\tDuration: 32.88\n",
      "Episode 106\tTotal Average Score: 28.30\tMean: 38.44\tMin: 36.12\tMax: 39.57\tDuration: 32.25\n",
      "Episode 107\tTotal Average Score: 28.67\tMean: 37.74\tMin: 35.92\tMax: 39.06\tDuration: 34.42\n",
      "Episode 108\tTotal Average Score: 29.03\tMean: 37.23\tMin: 33.51\tMax: 38.58\tDuration: 30.87\n",
      "Episode 109\tTotal Average Score: 29.39\tMean: 38.14\tMin: 35.85\tMax: 39.62\tDuration: 30.04\n",
      "Episode 110\tTotal Average Score: 29.76\tMean: 38.07\tMin: 36.99\tMax: 39.47\tDuration: 29.69\n",
      "Episode 110 (30 sec)  -- \tMin: 37.0\tMax: 39.5\tMean: 38.1\n",
      "Episode 111\tTotal Average Score: 30.13\tMean: 38.00\tMin: 34.86\tMax: 39.50\tDuration: 29.55\n",
      "Problem Solved after 111 epsisodes Total Average score: 30.13\n"
     ]
    }
   ],
   "source": [
    "scores = ddpg()"
   ]
  },
  {
   "cell_type": "markdown",
   "metadata": {},
   "source": [
    "### 8. Plot the scores"
   ]
  },
  {
   "cell_type": "code",
   "execution_count": 9,
   "metadata": {},
   "outputs": [
    {
     "data": {
      "image/png": "[encoded data removed]",
      "text/plain": [
       "<Figure size 432x288 with 1 Axes>"
      ]
     },
     "metadata": {
      "needs_background": "light"
     },
     "output_type": "display_data"
    }
   ],
   "source": [
    "fig = plt.figure()\n",
    "ax = fig.add_subplot(1, 1, 1)\n",
    "plt.plot(np.arange(1, len(scores) + 1), scores)\n",
    "plt.ylabel('Score')\n",
    "plt.xlabel('Episode #')\n",
    "plt.show()"
   ]
  },
  {
   "cell_type": "markdown",
   "metadata": {},
   "source": [
    "### 9. Close Unity Environment "
   ]
  },
  {
   "cell_type": "code",
   "execution_count": 10,
   "metadata": {},
   "outputs": [],
   "source": [
    "env.close()"
   ]
  }
 ],
 "metadata": {
  "anaconda-cloud": {},
  "kernelspec": {
   "display_name": "DRL",
   "language": "python",
   "name": "drl"
  },
  "language_info": {
   "codemirror_mode": {
    "name": "ipython",
    "version": 3
   },
   "file_extension": ".py",
   "mimetype": "text/x-python",
   "name": "python",
   "nbconvert_exporter": "python",
   "pygments_lexer": "ipython3",
   "version": "3.6.8"
  }
 },
 "nbformat": 4,
 "nbformat_minor": 2
}
